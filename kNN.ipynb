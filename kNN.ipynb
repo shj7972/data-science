{
 "cells": [
  {
   "cell_type": "code",
   "execution_count": 4,
   "metadata": {},
   "outputs": [
    {
     "name": "stdout",
     "output_type": "stream",
     "text": [
      "Action\n"
     ]
    }
   ],
   "source": [
    "from numpy import *\n",
    "import operator\n",
    "\n",
    "def createDataSet():\n",
    "    group = array([ [1.0, 2.0], [1.0,4.0], [4.0, 1.0], [4.0, 2.0] ])\n",
    "    labels = ['Action', 'Action', 'Romantic', 'Romantic']\n",
    "    return group, labels\n",
    "\n",
    "def calcDistance(inX, dataSet, labels, k):\n",
    "    # shape is a tuple that gives dimensions of the array\n",
    "    # shape[0] returns the number of rows, here will return 4\n",
    "    dataSetSize = dataSet.shape[0]  # dataSetSize = 4\n",
    "\n",
    "    # numpy.tile(A, reps): construct an array by repeating A the number of times given by reps / datasize 4번\n",
    "    # if reps has length d, the result will have dimension of max(d, A.ndim)\n",
    "    # tile(inX, (dataSetSize,1)) will return [ [2,3] [2,3] [2,3] [2,3] ]\n",
    "    # diffMat is [ [1, 1], [1, -1], [-2, 2], [-2, 1] ]\n",
    "    diffMat = tile(inX, (dataSetSize, 1)) - dataSet\n",
    "\n",
    "    # **2 means square\n",
    "    sqDiffMat = diffMat ** 2\n",
    "\n",
    "    # sqDistances = x^2 + y^2\n",
    "    sqDistances = sqDiffMat.sum(axis=1)\n",
    "    # distance is equal to the square root of the sum of the squares of the coordinates\n",
    "    # distance = [2, 2, 8, 5]\n",
    "    distances = sqDistances ** 0.5\n",
    "\n",
    "    # numpy.argsort() returns the indices that would sort an array\n",
    "    # here returns [0 1 3 2]\n",
    "    sortedDistIndices = distances.argsort()\n",
    "    return sortedDistIndices\n",
    "\n",
    "def findMajorityClass(inX, dataSet, labels, k, sortedDistIndices):\n",
    "    classCount = {}\n",
    "\n",
    "    # iterate k times from the closest item\n",
    "    for i in range(k):\n",
    "        voteIlabel = labels[sortedDistIndices[i]]\n",
    "        # increase +1 on the selected label\n",
    "        classCount[voteIlabel] = classCount.get(voteIlabel, 0) + 1\n",
    "\n",
    "    # classCount dictionary : {'Action': 2, 'Romantic': 1}\n",
    "    # sort ClassCount Descending order\n",
    "    # python3 iteritems => items\n",
    "    \n",
    "    return sorted(classCount.items(), key=operator.itemgetter(1), reverse=True)\n",
    "\n",
    "\n",
    "def classify0(inX, dataSet, labels, k):\n",
    "    # calculate the distance between inX and the current point\n",
    "    sortedDistIndices = calcDistance(inX, dataSet, labels, k)\n",
    "    # take k items with lowest distances to inX and find the majority class among k items\n",
    "    sortedClassCount = findMajorityClass(inX, dataSet, labels, k, sortedDistIndices)\n",
    "    # sortedClassCount is now [('Action', 2)], therefore return Action\n",
    "    return sortedClassCount[0][0]\n",
    "\n",
    "\n",
    "group, labels = createDataSet()\n",
    "result = classify0([2.0, 3.0], group, labels,3)\n",
    "print(result)"
   ]
  },
  {
   "cell_type": "code",
   "execution_count": null,
   "metadata": {
    "collapsed": true
   },
   "outputs": [],
   "source": []
  }
 ],
 "metadata": {
  "kernelspec": {
   "display_name": "Python 3",
   "language": "python",
   "name": "python3"
  },
  "language_info": {
   "codemirror_mode": {
    "name": "ipython",
    "version": 3
   },
   "file_extension": ".py",
   "mimetype": "text/x-python",
   "name": "python",
   "nbconvert_exporter": "python",
   "pygments_lexer": "ipython3",
   "version": "3.6.3"
  }
 },
 "nbformat": 4,
 "nbformat_minor": 2
}
